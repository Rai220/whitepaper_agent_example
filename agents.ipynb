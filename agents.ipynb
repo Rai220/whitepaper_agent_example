{
 "cells": [
  {
   "cell_type": "markdown",
   "id": "aa112c2f",
   "metadata": {},
   "source": [
    "# Настраиваем окружение"
   ]
  },
  {
   "cell_type": "code",
   "execution_count": 2,
   "id": "35a9e575",
   "metadata": {},
   "outputs": [
    {
     "data": {
      "text/plain": [
       "True"
      ]
     },
     "execution_count": 2,
     "metadata": {},
     "output_type": "execute_result"
    }
   ],
   "source": [
    "from rich import print\n",
    "from dotenv import load_dotenv, find_dotenv\n",
    "load_dotenv(find_dotenv())\n"
   ]
  },
  {
   "cell_type": "markdown",
   "id": "2001434a",
   "metadata": {},
   "source": [
    "# Подключаем GigaChat"
   ]
  },
  {
   "cell_type": "code",
   "execution_count": 7,
   "id": "7bd1db0c",
   "metadata": {},
   "outputs": [
    {
     "data": {
      "text/html": [
       "<pre style=\"white-space:pre;overflow-x:auto;line-height:normal;font-family:Menlo,'DejaVu Sans Mono',consolas,'Courier New',monospace\">Меня создала компания Sber в России в <span style=\"color: #008080; text-decoration-color: #008080; font-weight: bold\">2023</span> году.\n",
       "</pre>\n"
      ],
      "text/plain": [
       "Меня создала компания Sber в России в \u001b[1;36m2023\u001b[0m году.\n"
      ]
     },
     "metadata": {},
     "output_type": "display_data"
    }
   ],
   "source": [
    "\n",
    "from langchain_gigachat import GigaChat\n",
    "\n",
    "llm = GigaChat(model=\"GigaChat-2-Max\", profanity_check=False, top_p=0)\n",
    "print(llm.invoke(\"Кто тебя сделал?\").content)"
   ]
  },
  {
   "cell_type": "markdown",
   "id": "386ae738",
   "metadata": {},
   "source": [
    "# Создаем ReAact агента с возможностью поиска в интернете"
   ]
  },
  {
   "cell_type": "code",
   "execution_count": 9,
   "id": "6a1997b5",
   "metadata": {},
   "outputs": [
    {
     "data": {
      "image/png": "[encoded data removed]",
      "text/plain": [
       "<langgraph.graph.state.CompiledStateGraph object at 0x1278627b0>"
      ]
     },
     "execution_count": 9,
     "metadata": {},
     "output_type": "execute_result"
    }
   ],
   "source": [
    "from langgraph.prebuilt import create_react_agent\n",
    "from langchain_community.tools import DuckDuckGoSearchRun # !pip install duckduckgo_search\n",
    "\n",
    "agent = create_react_agent(llm, tools=[DuckDuckGoSearchRun()], prompt=\"Ты полезный ассистент\")\n",
    "agent"
   ]
  },
  {
   "cell_type": "code",
   "execution_count": 10,
   "id": "1cf2a92f",
   "metadata": {},
   "outputs": [],
   "source": [
    "inputs = {\"messages\": [(\"user\", \"Какая самая дорогая компания в мире на сегодня?\")]}\n",
    "messages = agent.invoke(inputs)['messages']"
   ]
  },
  {
   "cell_type": "code",
   "execution_count": 11,
   "id": "eece7acb",
   "metadata": {},
   "outputs": [
    {
     "data": {
      "text/html": [
       "<pre style=\"white-space:pre;overflow-x:auto;line-height:normal;font-family:Menlo,'DejaVu Sans Mono',consolas,'Courier New',monospace\">На сегодняшний день самой дорогой компанией в мире является **NVIDIA**, чья рыночная капитализация достигла более \n",
       "<span style=\"color: #008080; text-decoration-color: #008080; font-weight: bold\">3</span>,<span style=\"color: #008080; text-decoration-color: #008080; font-weight: bold\">6</span> триллионов долларов США. Однако стоит учитывать, что такие рейтинги могут изменяться ежедневно или даже \n",
       "ежечасно в зависимости от колебаний рынка.\n",
       "\n",
       "Вот краткий обзор других крупных игроков:\n",
       "- **Apple** — долгое время удерживала лидерство благодаря своим продуктам и сильной экосистеме.\n",
       "- **Microsoft** — также входит в число лидеров благодаря своей позиции в области программного обеспечения и \n",
       "облачных технологий.\n",
       "\n",
       "Таким образом, хотя NVIDIA сейчас лидирует, ситуация может быстро поменяться. Для получения актуальной информации \n",
       "рекомендуется регулярно проверять финансовые новости и аналитику.\n",
       "</pre>\n"
      ],
      "text/plain": [
       "На сегодняшний день самой дорогой компанией в мире является **NVIDIA**, чья рыночная капитализация достигла более \n",
       "\u001b[1;36m3\u001b[0m,\u001b[1;36m6\u001b[0m триллионов долларов США. Однако стоит учитывать, что такие рейтинги могут изменяться ежедневно или даже \n",
       "ежечасно в зависимости от колебаний рынка.\n",
       "\n",
       "Вот краткий обзор других крупных игроков:\n",
       "- **Apple** — долгое время удерживала лидерство благодаря своим продуктам и сильной экосистеме.\n",
       "- **Microsoft** — также входит в число лидеров благодаря своей позиции в области программного обеспечения и \n",
       "облачных технологий.\n",
       "\n",
       "Таким образом, хотя NVIDIA сейчас лидирует, ситуация может быстро поменяться. Для получения актуальной информации \n",
       "рекомендуется регулярно проверять финансовые новости и аналитику.\n"
      ]
     },
     "metadata": {},
     "output_type": "display_data"
    }
   ],
   "source": [
    "print(messages[-1].content)"
   ]
  },
  {
   "cell_type": "markdown",
   "id": "ea230f5b",
   "metadata": {},
   "source": [
    "## Изучим лог работы агента\n",
    "Видно, что агент сначала сделал вызов функции, затем LLM обработала результат поиска и потом подготовила итоговый ответ для пользователя."
   ]
  },
  {
   "cell_type": "code",
   "execution_count": 12,
   "id": "fcaec226",
   "metadata": {},
   "outputs": [
    {
     "data": {
      "text/html": [
       "<pre style=\"white-space:pre;overflow-x:auto;line-height:normal;font-family:Menlo,'DejaVu Sans Mono',consolas,'Courier New',monospace\"><span style=\"font-weight: bold\">[</span>\n",
       "    <span style=\"color: #800080; text-decoration-color: #800080; font-weight: bold\">HumanMessage</span><span style=\"font-weight: bold\">(</span>\n",
       "        <span style=\"color: #808000; text-decoration-color: #808000\">content</span>=<span style=\"color: #008000; text-decoration-color: #008000\">'Какая самая дорогая компания в мире на сегодня?'</span>,\n",
       "        <span style=\"color: #808000; text-decoration-color: #808000\">additional_kwargs</span>=<span style=\"font-weight: bold\">{}</span>,\n",
       "        <span style=\"color: #808000; text-decoration-color: #808000\">response_metadata</span>=<span style=\"font-weight: bold\">{}</span>,\n",
       "        <span style=\"color: #808000; text-decoration-color: #808000\">id</span>=<span style=\"color: #008000; text-decoration-color: #008000\">'65352869-aab3-4d23-a114-762e5b3fbca7'</span>\n",
       "    <span style=\"font-weight: bold\">)</span>,\n",
       "    <span style=\"color: #800080; text-decoration-color: #800080; font-weight: bold\">AIMessage</span><span style=\"font-weight: bold\">(</span>\n",
       "        <span style=\"color: #808000; text-decoration-color: #808000\">content</span>=<span style=\"color: #008000; text-decoration-color: #008000\">''</span>,\n",
       "        <span style=\"color: #808000; text-decoration-color: #808000\">additional_kwargs</span>=<span style=\"font-weight: bold\">{</span>\n",
       "            <span style=\"color: #008000; text-decoration-color: #008000\">'function_call'</span>: <span style=\"font-weight: bold\">{</span>\n",
       "                <span style=\"color: #008000; text-decoration-color: #008000\">'name'</span>: <span style=\"color: #008000; text-decoration-color: #008000\">'duckduckgo_search'</span>,\n",
       "                <span style=\"color: #008000; text-decoration-color: #008000\">'arguments'</span>: <span style=\"font-weight: bold\">{</span><span style=\"color: #008000; text-decoration-color: #008000\">'query'</span>: <span style=\"color: #008000; text-decoration-color: #008000\">'самая дорогая компания в мире на сегодня'</span><span style=\"font-weight: bold\">}</span>\n",
       "            <span style=\"font-weight: bold\">}</span>,\n",
       "            <span style=\"color: #008000; text-decoration-color: #008000\">'functions_state_id'</span>: <span style=\"color: #008000; text-decoration-color: #008000\">'4cb749d0-c7df-460b-bb3c-58467ce0699c'</span>\n",
       "        <span style=\"font-weight: bold\">}</span>,\n",
       "        <span style=\"color: #808000; text-decoration-color: #808000\">response_metadata</span>=<span style=\"font-weight: bold\">{</span>\n",
       "            <span style=\"color: #008000; text-decoration-color: #008000\">'token_usage'</span>: <span style=\"font-weight: bold\">{</span>\n",
       "                <span style=\"color: #008000; text-decoration-color: #008000\">'prompt_tokens'</span>: <span style=\"color: #008080; text-decoration-color: #008080; font-weight: bold\">105</span>,\n",
       "                <span style=\"color: #008000; text-decoration-color: #008000\">'completion_tokens'</span>: <span style=\"color: #008080; text-decoration-color: #008080; font-weight: bold\">35</span>,\n",
       "                <span style=\"color: #008000; text-decoration-color: #008000\">'total_tokens'</span>: <span style=\"color: #008080; text-decoration-color: #008080; font-weight: bold\">140</span>,\n",
       "                <span style=\"color: #008000; text-decoration-color: #008000\">'precached_prompt_tokens'</span>: <span style=\"color: #008080; text-decoration-color: #008080; font-weight: bold\">2</span>\n",
       "            <span style=\"font-weight: bold\">}</span>,\n",
       "            <span style=\"color: #008000; text-decoration-color: #008000\">'model_name'</span>: <span style=\"color: #008000; text-decoration-color: #008000\">'GigaChat-2-Max:2.0.28.02'</span>,\n",
       "            <span style=\"color: #008000; text-decoration-color: #008000\">'x_headers'</span>: <span style=\"font-weight: bold\">{</span>\n",
       "                <span style=\"color: #008000; text-decoration-color: #008000\">'x-request-id'</span>: <span style=\"color: #008000; text-decoration-color: #008000\">'5e857edd-524b-46aa-a0fd-09e9c98b2049'</span>,\n",
       "                <span style=\"color: #008000; text-decoration-color: #008000\">'x-session-id'</span>: <span style=\"color: #008000; text-decoration-color: #008000\">'ec142363-0dda-4413-a6e1-d1f03c03c648'</span>,\n",
       "                <span style=\"color: #008000; text-decoration-color: #008000\">'x-client-id'</span>: <span style=\"color: #800080; text-decoration-color: #800080; font-style: italic\">None</span>\n",
       "            <span style=\"font-weight: bold\">}</span>,\n",
       "            <span style=\"color: #008000; text-decoration-color: #008000\">'finish_reason'</span>: <span style=\"color: #008000; text-decoration-color: #008000\">'function_call'</span>\n",
       "        <span style=\"font-weight: bold\">}</span>,\n",
       "        <span style=\"color: #808000; text-decoration-color: #808000\">id</span>=<span style=\"color: #008000; text-decoration-color: #008000\">'5e857edd-524b-46aa-a0fd-09e9c98b2049'</span>,\n",
       "        <span style=\"color: #808000; text-decoration-color: #808000\">tool_calls</span>=<span style=\"font-weight: bold\">[</span>\n",
       "            <span style=\"font-weight: bold\">{</span>\n",
       "                <span style=\"color: #008000; text-decoration-color: #008000\">'name'</span>: <span style=\"color: #008000; text-decoration-color: #008000\">'duckduckgo_search'</span>,\n",
       "                <span style=\"color: #008000; text-decoration-color: #008000\">'args'</span>: <span style=\"font-weight: bold\">{</span><span style=\"color: #008000; text-decoration-color: #008000\">'query'</span>: <span style=\"color: #008000; text-decoration-color: #008000\">'самая дорогая компания в мире на сегодня'</span><span style=\"font-weight: bold\">}</span>,\n",
       "                <span style=\"color: #008000; text-decoration-color: #008000\">'id'</span>: <span style=\"color: #008000; text-decoration-color: #008000\">'605f4509-dd5f-4bcb-9906-99d0c23ce5c9'</span>,\n",
       "                <span style=\"color: #008000; text-decoration-color: #008000\">'type'</span>: <span style=\"color: #008000; text-decoration-color: #008000\">'tool_call'</span>\n",
       "            <span style=\"font-weight: bold\">}</span>\n",
       "        <span style=\"font-weight: bold\">]</span>,\n",
       "        <span style=\"color: #808000; text-decoration-color: #808000\">usage_metadata</span>=<span style=\"font-weight: bold\">{</span>\n",
       "            <span style=\"color: #008000; text-decoration-color: #008000\">'output_tokens'</span>: <span style=\"color: #008080; text-decoration-color: #008080; font-weight: bold\">35</span>,\n",
       "            <span style=\"color: #008000; text-decoration-color: #008000\">'input_tokens'</span>: <span style=\"color: #008080; text-decoration-color: #008080; font-weight: bold\">105</span>,\n",
       "            <span style=\"color: #008000; text-decoration-color: #008000\">'total_tokens'</span>: <span style=\"color: #008080; text-decoration-color: #008080; font-weight: bold\">140</span>,\n",
       "            <span style=\"color: #008000; text-decoration-color: #008000\">'input_token_details'</span>: <span style=\"font-weight: bold\">{</span><span style=\"color: #008000; text-decoration-color: #008000\">'cache_read'</span>: <span style=\"color: #008080; text-decoration-color: #008080; font-weight: bold\">2</span><span style=\"font-weight: bold\">}</span>\n",
       "        <span style=\"font-weight: bold\">}</span>\n",
       "    <span style=\"font-weight: bold\">)</span>,\n",
       "    <span style=\"color: #800080; text-decoration-color: #800080; font-weight: bold\">ToolMessage</span><span style=\"font-weight: bold\">(</span>\n",
       "        <span style=\"color: #808000; text-decoration-color: #808000\">content</span>=<span style=\"color: #008000; text-decoration-color: #008000\">'Собрали самые дорогие компании по рыночной капитализации. Не забывайте, что этот список постоянно </span>\n",
       "<span style=\"color: #008000; text-decoration-color: #008000\">обновляется - данные актуальны на декабрь 2024. 1. Apple Inc. (AAPL) Apple остаётся лидером, предлагая </span>\n",
       "<span style=\"color: #008000; text-decoration-color: #008000\">инновационные устройства и укрепляя свою экосистему продуктов. 2. NVIDIA Corporation (NVDA) Акции Nvidia на прошлой</span>\n",
       "<span style=\"color: #008000; text-decoration-color: #008000\">неделе достигли рекордного максимума, сделав производителя чипов первой компанией в истории, чья стоимость на </span>\n",
       "<span style=\"color: #008000; text-decoration-color: #008000\">фондовом рынке превысила 3,6 триллиона долларов. Технологический гигант Microsoft обогнал Apple в рейтинге самых </span>\n",
       "<span style=\"color: #008000; text-decoration-color: #008000\">дорогих компаний в мире. За последние четыре сессии акции производителя iPhone рухнули на 23% из-за импортных </span>\n",
       "<span style=\"color: #008000; text-decoration-color: #008000\">пошлин Трампа. Microsoft вышла на первое место по капитализации в мире после падения акций Apple. В 2025 году самой</span>\n",
       "<span style=\"color: #008000; text-decoration-color: #008000\">дорогой компанией в мире является Apple с рыночной капитализацией в 3.548 трлн долларов . На втором месте - </span>\n",
       "<span style=\"color: #008000; text-decoration-color: #008000\">Microsoft ($3.085 трлн). Третье место занимает NVIDIA с капитализацией 2.940 трлн долларов. Далее мы рассмотрим </span>\n",
       "<span style=\"color: #008000; text-decoration-color: #008000\">рейтинг десяти крупнейших компаний в мире, отсортированных по рыночной капитализации. NVIDIA. Finam.ru рассказывает</span>\n",
       "<span style=\"color: #008000; text-decoration-color: #008000\">о так называемом «клубе $2 трлн», в который входят самые дорогие компании мира. Из шести крупнейших компаний, </span>\n",
       "<span style=\"color: #008000; text-decoration-color: #008000\">капитализация которых когда-либо превышала отметку $2 трлн, одна - нефтяная, а остальные - технологические.'</span>,\n",
       "        <span style=\"color: #808000; text-decoration-color: #808000\">name</span>=<span style=\"color: #008000; text-decoration-color: #008000\">'duckduckgo_search'</span>,\n",
       "        <span style=\"color: #808000; text-decoration-color: #808000\">id</span>=<span style=\"color: #008000; text-decoration-color: #008000\">'ab6a3a6e-c717-4cd9-a77e-e3fc8a834272'</span>,\n",
       "        <span style=\"color: #808000; text-decoration-color: #808000\">tool_call_id</span>=<span style=\"color: #008000; text-decoration-color: #008000\">'605f4509-dd5f-4bcb-9906-99d0c23ce5c9'</span>\n",
       "    <span style=\"font-weight: bold\">)</span>,\n",
       "    <span style=\"color: #800080; text-decoration-color: #800080; font-weight: bold\">AIMessage</span><span style=\"font-weight: bold\">(</span>\n",
       "        <span style=\"color: #808000; text-decoration-color: #808000\">content</span>=<span style=\"color: #008000; text-decoration-color: #008000\">'На сегодняшний день самой дорогой компанией в мире является **NVIDIA**, чья рыночная капитализация</span>\n",
       "<span style=\"color: #008000; text-decoration-color: #008000\">достигла более 3,6 триллионов долларов США. Однако стоит учитывать, что такие рейтинги могут изменяться ежедневно </span>\n",
       "<span style=\"color: #008000; text-decoration-color: #008000\">или даже ежечасно в зависимости от колебаний рынка.\\n\\nВот краткий обзор других крупных игроков:\\n- **Apple** — </span>\n",
       "<span style=\"color: #008000; text-decoration-color: #008000\">долгое время удерживала лидерство благодаря своим продуктам и сильной экосистеме.\\n- **Microsoft** — также входит в</span>\n",
       "<span style=\"color: #008000; text-decoration-color: #008000\">число лидеров благодаря своей позиции в области программного обеспечения и облачных технологий.\\n\\nТаким образом, </span>\n",
       "<span style=\"color: #008000; text-decoration-color: #008000\">хотя NVIDIA сейчас лидирует, ситуация может быстро поменяться. Для получения актуальной информации рекомендуется </span>\n",
       "<span style=\"color: #008000; text-decoration-color: #008000\">регулярно проверять финансовые новости и аналитику.'</span>,\n",
       "        <span style=\"color: #808000; text-decoration-color: #808000\">additional_kwargs</span>=<span style=\"font-weight: bold\">{</span><span style=\"color: #008000; text-decoration-color: #008000\">'functions_state_id'</span>: <span style=\"color: #008000; text-decoration-color: #008000\">'b61b1fc2-5fa6-412a-9e16-9af356795611'</span><span style=\"font-weight: bold\">}</span>,\n",
       "        <span style=\"color: #808000; text-decoration-color: #808000\">response_metadata</span>=<span style=\"font-weight: bold\">{</span>\n",
       "            <span style=\"color: #008000; text-decoration-color: #008000\">'token_usage'</span>: <span style=\"font-weight: bold\">{</span>\n",
       "                <span style=\"color: #008000; text-decoration-color: #008000\">'prompt_tokens'</span>: <span style=\"color: #008080; text-decoration-color: #008080; font-weight: bold\">459</span>,\n",
       "                <span style=\"color: #008000; text-decoration-color: #008000\">'completion_tokens'</span>: <span style=\"color: #008080; text-decoration-color: #008080; font-weight: bold\">141</span>,\n",
       "                <span style=\"color: #008000; text-decoration-color: #008000\">'total_tokens'</span>: <span style=\"color: #008080; text-decoration-color: #008080; font-weight: bold\">600</span>,\n",
       "                <span style=\"color: #008000; text-decoration-color: #008000\">'precached_prompt_tokens'</span>: <span style=\"color: #008080; text-decoration-color: #008080; font-weight: bold\">2</span>\n",
       "            <span style=\"font-weight: bold\">}</span>,\n",
       "            <span style=\"color: #008000; text-decoration-color: #008000\">'model_name'</span>: <span style=\"color: #008000; text-decoration-color: #008000\">'GigaChat-2-Max:2.0.28.02'</span>,\n",
       "            <span style=\"color: #008000; text-decoration-color: #008000\">'x_headers'</span>: <span style=\"font-weight: bold\">{</span>\n",
       "                <span style=\"color: #008000; text-decoration-color: #008000\">'x-request-id'</span>: <span style=\"color: #008000; text-decoration-color: #008000\">'fbe93b63-80c7-4f07-be2e-be077be0b751'</span>,\n",
       "                <span style=\"color: #008000; text-decoration-color: #008000\">'x-session-id'</span>: <span style=\"color: #008000; text-decoration-color: #008000\">'e7b1a6ad-bfea-4507-ad9c-cca32c8044d5'</span>,\n",
       "                <span style=\"color: #008000; text-decoration-color: #008000\">'x-client-id'</span>: <span style=\"color: #800080; text-decoration-color: #800080; font-style: italic\">None</span>\n",
       "            <span style=\"font-weight: bold\">}</span>,\n",
       "            <span style=\"color: #008000; text-decoration-color: #008000\">'finish_reason'</span>: <span style=\"color: #008000; text-decoration-color: #008000\">'stop'</span>\n",
       "        <span style=\"font-weight: bold\">}</span>,\n",
       "        <span style=\"color: #808000; text-decoration-color: #808000\">id</span>=<span style=\"color: #008000; text-decoration-color: #008000\">'fbe93b63-80c7-4f07-be2e-be077be0b751'</span>,\n",
       "        <span style=\"color: #808000; text-decoration-color: #808000\">usage_metadata</span>=<span style=\"font-weight: bold\">{</span>\n",
       "            <span style=\"color: #008000; text-decoration-color: #008000\">'output_tokens'</span>: <span style=\"color: #008080; text-decoration-color: #008080; font-weight: bold\">141</span>,\n",
       "            <span style=\"color: #008000; text-decoration-color: #008000\">'input_tokens'</span>: <span style=\"color: #008080; text-decoration-color: #008080; font-weight: bold\">459</span>,\n",
       "            <span style=\"color: #008000; text-decoration-color: #008000\">'total_tokens'</span>: <span style=\"color: #008080; text-decoration-color: #008080; font-weight: bold\">600</span>,\n",
       "            <span style=\"color: #008000; text-decoration-color: #008000\">'input_token_details'</span>: <span style=\"font-weight: bold\">{</span><span style=\"color: #008000; text-decoration-color: #008000\">'cache_read'</span>: <span style=\"color: #008080; text-decoration-color: #008080; font-weight: bold\">2</span><span style=\"font-weight: bold\">}</span>\n",
       "        <span style=\"font-weight: bold\">}</span>\n",
       "    <span style=\"font-weight: bold\">)</span>\n",
       "<span style=\"font-weight: bold\">]</span>\n",
       "</pre>\n"
      ],
      "text/plain": [
       "\u001b[1m[\u001b[0m\n",
       "    \u001b[1;35mHumanMessage\u001b[0m\u001b[1m(\u001b[0m\n",
       "        \u001b[33mcontent\u001b[0m=\u001b[32m'Какая самая дорогая компания в мире на сегодня?'\u001b[0m,\n",
       "        \u001b[33madditional_kwargs\u001b[0m=\u001b[1m{\u001b[0m\u001b[1m}\u001b[0m,\n",
       "        \u001b[33mresponse_metadata\u001b[0m=\u001b[1m{\u001b[0m\u001b[1m}\u001b[0m,\n",
       "        \u001b[33mid\u001b[0m=\u001b[32m'65352869-aab3-4d23-a114-762e5b3fbca7'\u001b[0m\n",
       "    \u001b[1m)\u001b[0m,\n",
       "    \u001b[1;35mAIMessage\u001b[0m\u001b[1m(\u001b[0m\n",
       "        \u001b[33mcontent\u001b[0m=\u001b[32m''\u001b[0m,\n",
       "        \u001b[33madditional_kwargs\u001b[0m=\u001b[1m{\u001b[0m\n",
       "            \u001b[32m'function_call'\u001b[0m: \u001b[1m{\u001b[0m\n",
       "                \u001b[32m'name'\u001b[0m: \u001b[32m'duckduckgo_search'\u001b[0m,\n",
       "                \u001b[32m'arguments'\u001b[0m: \u001b[1m{\u001b[0m\u001b[32m'query'\u001b[0m: \u001b[32m'самая дорогая компания в мире на сегодня'\u001b[0m\u001b[1m}\u001b[0m\n",
       "            \u001b[1m}\u001b[0m,\n",
       "            \u001b[32m'functions_state_id'\u001b[0m: \u001b[32m'4cb749d0-c7df-460b-bb3c-58467ce0699c'\u001b[0m\n",
       "        \u001b[1m}\u001b[0m,\n",
       "        \u001b[33mresponse_metadata\u001b[0m=\u001b[1m{\u001b[0m\n",
       "            \u001b[32m'token_usage'\u001b[0m: \u001b[1m{\u001b[0m\n",
       "                \u001b[32m'prompt_tokens'\u001b[0m: \u001b[1;36m105\u001b[0m,\n",
       "                \u001b[32m'completion_tokens'\u001b[0m: \u001b[1;36m35\u001b[0m,\n",
       "                \u001b[32m'total_tokens'\u001b[0m: \u001b[1;36m140\u001b[0m,\n",
       "                \u001b[32m'precached_prompt_tokens'\u001b[0m: \u001b[1;36m2\u001b[0m\n",
       "            \u001b[1m}\u001b[0m,\n",
       "            \u001b[32m'model_name'\u001b[0m: \u001b[32m'GigaChat-2-Max:2.0.28.02'\u001b[0m,\n",
       "            \u001b[32m'x_headers'\u001b[0m: \u001b[1m{\u001b[0m\n",
       "                \u001b[32m'x-request-id'\u001b[0m: \u001b[32m'5e857edd-524b-46aa-a0fd-09e9c98b2049'\u001b[0m,\n",
       "                \u001b[32m'x-session-id'\u001b[0m: \u001b[32m'ec142363-0dda-4413-a6e1-d1f03c03c648'\u001b[0m,\n",
       "                \u001b[32m'x-client-id'\u001b[0m: \u001b[3;35mNone\u001b[0m\n",
       "            \u001b[1m}\u001b[0m,\n",
       "            \u001b[32m'finish_reason'\u001b[0m: \u001b[32m'function_call'\u001b[0m\n",
       "        \u001b[1m}\u001b[0m,\n",
       "        \u001b[33mid\u001b[0m=\u001b[32m'5e857edd-524b-46aa-a0fd-09e9c98b2049'\u001b[0m,\n",
       "        \u001b[33mtool_calls\u001b[0m=\u001b[1m[\u001b[0m\n",
       "            \u001b[1m{\u001b[0m\n",
       "                \u001b[32m'name'\u001b[0m: \u001b[32m'duckduckgo_search'\u001b[0m,\n",
       "                \u001b[32m'args'\u001b[0m: \u001b[1m{\u001b[0m\u001b[32m'query'\u001b[0m: \u001b[32m'самая дорогая компания в мире на сегодня'\u001b[0m\u001b[1m}\u001b[0m,\n",
       "                \u001b[32m'id'\u001b[0m: \u001b[32m'605f4509-dd5f-4bcb-9906-99d0c23ce5c9'\u001b[0m,\n",
       "                \u001b[32m'type'\u001b[0m: \u001b[32m'tool_call'\u001b[0m\n",
       "            \u001b[1m}\u001b[0m\n",
       "        \u001b[1m]\u001b[0m,\n",
       "        \u001b[33musage_metadata\u001b[0m=\u001b[1m{\u001b[0m\n",
       "            \u001b[32m'output_tokens'\u001b[0m: \u001b[1;36m35\u001b[0m,\n",
       "            \u001b[32m'input_tokens'\u001b[0m: \u001b[1;36m105\u001b[0m,\n",
       "            \u001b[32m'total_tokens'\u001b[0m: \u001b[1;36m140\u001b[0m,\n",
       "            \u001b[32m'input_token_details'\u001b[0m: \u001b[1m{\u001b[0m\u001b[32m'cache_read'\u001b[0m: \u001b[1;36m2\u001b[0m\u001b[1m}\u001b[0m\n",
       "        \u001b[1m}\u001b[0m\n",
       "    \u001b[1m)\u001b[0m,\n",
       "    \u001b[1;35mToolMessage\u001b[0m\u001b[1m(\u001b[0m\n",
       "        \u001b[33mcontent\u001b[0m=\u001b[32m'Собрали самые дорогие компании по рыночной капитализации. Не забывайте, что этот список постоянно \u001b[0m\n",
       "\u001b[32mобновляется - данные актуальны на декабрь 2024. 1. Apple Inc. \u001b[0m\u001b[32m(\u001b[0m\u001b[32mAAPL\u001b[0m\u001b[32m)\u001b[0m\u001b[32m Apple остаётся лидером, предлагая \u001b[0m\n",
       "\u001b[32mинновационные устройства и укрепляя свою экосистему продуктов. 2. NVIDIA Corporation \u001b[0m\u001b[32m(\u001b[0m\u001b[32mNVDA\u001b[0m\u001b[32m)\u001b[0m\u001b[32m Акции Nvidia на прошлой\u001b[0m\n",
       "\u001b[32mнеделе достигли рекордного максимума, сделав производителя чипов первой компанией в истории, чья стоимость на \u001b[0m\n",
       "\u001b[32mфондовом рынке превысила 3,6 триллиона долларов. Технологический гигант Microsoft обогнал Apple в рейтинге самых \u001b[0m\n",
       "\u001b[32mдорогих компаний в мире. За последние четыре сессии акции производителя iPhone рухнули на 23% из-за импортных \u001b[0m\n",
       "\u001b[32mпошлин Трампа. Microsoft вышла на первое место по капитализации в мире после падения акций Apple. В 2025 году самой\u001b[0m\n",
       "\u001b[32mдорогой компанией в мире является Apple с рыночной капитализацией в 3.548 трлн долларов . На втором месте - \u001b[0m\n",
       "\u001b[32mMicrosoft \u001b[0m\u001b[32m(\u001b[0m\u001b[32m$3.085 трлн\u001b[0m\u001b[32m)\u001b[0m\u001b[32m. Третье место занимает NVIDIA с капитализацией 2.940 трлн долларов. Далее мы рассмотрим \u001b[0m\n",
       "\u001b[32mрейтинг десяти крупнейших компаний в мире, отсортированных по рыночной капитализации. NVIDIA. Finam.ru рассказывает\u001b[0m\n",
       "\u001b[32mо так называемом «клубе $2 трлн», в который входят самые дорогие компании мира. Из шести крупнейших компаний, \u001b[0m\n",
       "\u001b[32mкапитализация которых когда-либо превышала отметку $2 трлн, одна - нефтяная, а остальные - технологические.'\u001b[0m,\n",
       "        \u001b[33mname\u001b[0m=\u001b[32m'duckduckgo_search'\u001b[0m,\n",
       "        \u001b[33mid\u001b[0m=\u001b[32m'ab6a3a6e-c717-4cd9-a77e-e3fc8a834272'\u001b[0m,\n",
       "        \u001b[33mtool_call_id\u001b[0m=\u001b[32m'605f4509-dd5f-4bcb-9906-99d0c23ce5c9'\u001b[0m\n",
       "    \u001b[1m)\u001b[0m,\n",
       "    \u001b[1;35mAIMessage\u001b[0m\u001b[1m(\u001b[0m\n",
       "        \u001b[33mcontent\u001b[0m=\u001b[32m'На сегодняшний день самой дорогой компанией в мире является **NVIDIA**, чья рыночная капитализация\u001b[0m\n",
       "\u001b[32mдостигла более 3,6 триллионов долларов США. Однако стоит учитывать, что такие рейтинги могут изменяться ежедневно \u001b[0m\n",
       "\u001b[32mили даже ежечасно в зависимости от колебаний рынка.\\n\\nВот краткий обзор других крупных игроков:\\n- **Apple** — \u001b[0m\n",
       "\u001b[32mдолгое время удерживала лидерство благодаря своим продуктам и сильной экосистеме.\\n- **Microsoft** — также входит в\u001b[0m\n",
       "\u001b[32mчисло лидеров благодаря своей позиции в области программного обеспечения и облачных технологий.\\n\\nТаким образом, \u001b[0m\n",
       "\u001b[32mхотя NVIDIA сейчас лидирует, ситуация может быстро поменяться. Для получения актуальной информации рекомендуется \u001b[0m\n",
       "\u001b[32mрегулярно проверять финансовые новости и аналитику.'\u001b[0m,\n",
       "        \u001b[33madditional_kwargs\u001b[0m=\u001b[1m{\u001b[0m\u001b[32m'functions_state_id'\u001b[0m: \u001b[32m'b61b1fc2-5fa6-412a-9e16-9af356795611'\u001b[0m\u001b[1m}\u001b[0m,\n",
       "        \u001b[33mresponse_metadata\u001b[0m=\u001b[1m{\u001b[0m\n",
       "            \u001b[32m'token_usage'\u001b[0m: \u001b[1m{\u001b[0m\n",
       "                \u001b[32m'prompt_tokens'\u001b[0m: \u001b[1;36m459\u001b[0m,\n",
       "                \u001b[32m'completion_tokens'\u001b[0m: \u001b[1;36m141\u001b[0m,\n",
       "                \u001b[32m'total_tokens'\u001b[0m: \u001b[1;36m600\u001b[0m,\n",
       "                \u001b[32m'precached_prompt_tokens'\u001b[0m: \u001b[1;36m2\u001b[0m\n",
       "            \u001b[1m}\u001b[0m,\n",
       "            \u001b[32m'model_name'\u001b[0m: \u001b[32m'GigaChat-2-Max:2.0.28.02'\u001b[0m,\n",
       "            \u001b[32m'x_headers'\u001b[0m: \u001b[1m{\u001b[0m\n",
       "                \u001b[32m'x-request-id'\u001b[0m: \u001b[32m'fbe93b63-80c7-4f07-be2e-be077be0b751'\u001b[0m,\n",
       "                \u001b[32m'x-session-id'\u001b[0m: \u001b[32m'e7b1a6ad-bfea-4507-ad9c-cca32c8044d5'\u001b[0m,\n",
       "                \u001b[32m'x-client-id'\u001b[0m: \u001b[3;35mNone\u001b[0m\n",
       "            \u001b[1m}\u001b[0m,\n",
       "            \u001b[32m'finish_reason'\u001b[0m: \u001b[32m'stop'\u001b[0m\n",
       "        \u001b[1m}\u001b[0m,\n",
       "        \u001b[33mid\u001b[0m=\u001b[32m'fbe93b63-80c7-4f07-be2e-be077be0b751'\u001b[0m,\n",
       "        \u001b[33musage_metadata\u001b[0m=\u001b[1m{\u001b[0m\n",
       "            \u001b[32m'output_tokens'\u001b[0m: \u001b[1;36m141\u001b[0m,\n",
       "            \u001b[32m'input_tokens'\u001b[0m: \u001b[1;36m459\u001b[0m,\n",
       "            \u001b[32m'total_tokens'\u001b[0m: \u001b[1;36m600\u001b[0m,\n",
       "            \u001b[32m'input_token_details'\u001b[0m: \u001b[1m{\u001b[0m\u001b[32m'cache_read'\u001b[0m: \u001b[1;36m2\u001b[0m\u001b[1m}\u001b[0m\n",
       "        \u001b[1m}\u001b[0m\n",
       "    \u001b[1m)\u001b[0m\n",
       "\u001b[1m]\u001b[0m\n"
      ]
     },
     "metadata": {},
     "output_type": "display_data"
    }
   ],
   "source": [
    "print(messages)"
   ]
  },
  {
   "cell_type": "markdown",
   "id": "5f3ff881",
   "metadata": {},
   "source": [
    "# Агент для заполнения LeanCanvas"
   ]
  },
  {
   "cell_type": "markdown",
   "id": "8d1af6d7",
   "metadata": {},
   "source": [
    "## Structured output - наивный подход"
   ]
  },
  {
   "cell_type": "code",
   "execution_count": 13,
   "id": "c231ac1a",
   "metadata": {},
   "outputs": [],
   "source": [
    "from pydantic import BaseModel\n",
    "from typing import Optional\n",
    "\n",
    "class LeanCanvasResult(BaseModel):\n",
    "    \"\"\"\n",
    "    Представляет результат генерации Lean Canvas.\n",
    "    Каждое поле соответствует разделу Lean Canvas.\n",
    "    \"\"\"\n",
    "    problem: str  # Проблема, которую пытается решить продукт или услуга.\n",
    "    solution: str  # Краткое описание предлагаемого решения.\n",
    "    key_metrics: str  # Ключевые показатели, которые необходимо измерять для отслеживания прогресса.\n",
    "    unique_value_proposition: str  # Единое, ясное и убедительное сообщение, объясняющее, почему вы отличаетесь от других и почему стоит покупать именно у вас.\n",
    "    unfair_advantage: str  # То, что конкуренты не могут легко скопировать или купить.\n",
    "    channels: str  # Пути охвата ваших клиентских сегментов.\n",
    "    customer_segments: str  # Целевая аудитория или группы людей, которых вы пытаетесь охватить.\n",
    "    cost_structure: str  # Основные затраты, связанные с ведением бизнеса.\n",
    "    revenue_streams: str  # Как бизнес будет зарабатывать деньги."
   ]
  },
  {
   "cell_type": "code",
   "execution_count": 14,
   "id": "ada47c2c",
   "metadata": {},
   "outputs": [
    {
     "data": {
      "text/html": [
       "<pre style=\"white-space:pre;overflow-x:auto;line-height:normal;font-family:Menlo,'DejaVu Sans Mono',consolas,'Courier New',monospace\"><span style=\"color: #800080; text-decoration-color: #800080; font-weight: bold\">LeanCanvasResult</span><span style=\"font-weight: bold\">(</span>\n",
       "    <span style=\"color: #808000; text-decoration-color: #808000\">problem</span>=<span style=\"color: #008000; text-decoration-color: #008000\">'Трудности в изучении языка самостоятельно, нехватка практики общения с носителями языка, отсутствие </span>\n",
       "<span style=\"color: #008000; text-decoration-color: #008000\">мотивации и дисциплины, высокие цены на традиционные курсы.  \",\\n    '</span>,\n",
       "    <span style=\"color: #808000; text-decoration-color: #808000\">solution</span>=<span style=\"color: #008000; text-decoration-color: #008000\">'Онлайн-платформа, связывающая изучающих язык с носителями языка для практики общения, доступ к </span>\n",
       "<span style=\"color: #008000; text-decoration-color: #008000\">учебным материалам и сообществу изучающих язык.  \",\\n    '</span>,\n",
       "    <span style=\"color: #808000; text-decoration-color: #808000\">key_metrics</span>=<span style=\"color: #008000; text-decoration-color: #008000\">'Количество активных пользователей, количество проведенных уроков, коэффициент удержания </span>\n",
       "<span style=\"color: #008000; text-decoration-color: #008000\">пользователей, средняя продолжительность урока, количество положительных отзывов.  \",\\n    '</span>,\n",
       "    <span style=\"color: #808000; text-decoration-color: #808000\">unique_value_proposition</span>=<span style=\"color: #008000; text-decoration-color: #008000\">'Изучение языка с носителями языка в удобном формате и по доступной цене, возможность </span>\n",
       "<span style=\"color: #008000; text-decoration-color: #008000\">практиковаться в реальном общении и получать обратную связь от опытных пользователей.  \"\\n}'</span>,\n",
       "    <span style=\"color: #808000; text-decoration-color: #808000\">unfair_advantage</span>=<span style=\"color: #008000; text-decoration-color: #008000\">'Уникальная система подбора партнеров по языку, основанная на интересах и целях, доступ к </span>\n",
       "<span style=\"color: #008000; text-decoration-color: #008000\">большому сообществу носителей языка, возможность учиться в удобное время и из любой точки мира.  \",\\n    '</span>,\n",
       "    <span style=\"color: #808000; text-decoration-color: #808000\">channels</span>=<span style=\"color: #008000; text-decoration-color: #008000\">'Платформы социальных сетей, реферальные программы, контент-маркетинг, SEO, партнерские программы с </span>\n",
       "<span style=\"color: #008000; text-decoration-color: #008000\">языковыми школами и университетами.  \",\\n    '</span>,\n",
       "    <span style=\"color: #808000; text-decoration-color: #808000\">customer_segments</span>=<span style=\"color: #008000; text-decoration-color: #008000\">'Изучающие иностранные языки, студенты, путешественники, эмигранты, профессионалы, желающие </span>\n",
       "<span style=\"color: #008000; text-decoration-color: #008000\">улучшить свои языковые навыки.  \",\\n    '</span>,\n",
       "    <span style=\"color: #808000; text-decoration-color: #808000\">cost_structure</span>=<span style=\"color: #008000; text-decoration-color: #008000\">'Разработка и поддержка платформы, маркетинг и привлечение пользователей, оплата труда </span>\n",
       "<span style=\"color: #008000; text-decoration-color: #008000\">модераторов и администраторов, юридические и бухгалтерские расходы.  \",\\n    '</span>,\n",
       "    <span style=\"color: #808000; text-decoration-color: #808000\">revenue_streams</span>=<span style=\"color: #008000; text-decoration-color: #008000\">'Подписка на платформу, комиссия с каждого урока, продажа дополнительных материалов и услуг, </span>\n",
       "<span style=\"color: #008000; text-decoration-color: #008000\">премиум-функции.  \",\\n    '</span>\n",
       "<span style=\"font-weight: bold\">)</span>\n",
       "</pre>\n"
      ],
      "text/plain": [
       "\u001b[1;35mLeanCanvasResult\u001b[0m\u001b[1m(\u001b[0m\n",
       "    \u001b[33mproblem\u001b[0m=\u001b[32m'Трудности в изучении языка самостоятельно, нехватка практики общения с носителями языка, отсутствие \u001b[0m\n",
       "\u001b[32mмотивации и дисциплины, высокие цены на традиционные курсы.  \",\\n    '\u001b[0m,\n",
       "    \u001b[33msolution\u001b[0m=\u001b[32m'Онлайн-платформа, связывающая изучающих язык с носителями языка для практики общения, доступ к \u001b[0m\n",
       "\u001b[32mучебным материалам и сообществу изучающих язык.  \",\\n    '\u001b[0m,\n",
       "    \u001b[33mkey_metrics\u001b[0m=\u001b[32m'Количество активных пользователей, количество проведенных уроков, коэффициент удержания \u001b[0m\n",
       "\u001b[32mпользователей, средняя продолжительность урока, количество положительных отзывов.  \",\\n    '\u001b[0m,\n",
       "    \u001b[33munique_value_proposition\u001b[0m=\u001b[32m'Изучение языка с носителями языка в удобном формате и по доступной цене, возможность \u001b[0m\n",
       "\u001b[32mпрактиковаться в реальном общении и получать обратную связь от опытных пользователей.  \"\\n\u001b[0m\u001b[32m}\u001b[0m\u001b[32m'\u001b[0m,\n",
       "    \u001b[33munfair_advantage\u001b[0m=\u001b[32m'Уникальная система подбора партнеров по языку, основанная на интересах и целях, доступ к \u001b[0m\n",
       "\u001b[32mбольшому сообществу носителей языка, возможность учиться в удобное время и из любой точки мира.  \",\\n    '\u001b[0m,\n",
       "    \u001b[33mchannels\u001b[0m=\u001b[32m'Платформы социальных сетей, реферальные программы, контент-маркетинг, SEO, партнерские программы с \u001b[0m\n",
       "\u001b[32mязыковыми школами и университетами.  \",\\n    '\u001b[0m,\n",
       "    \u001b[33mcustomer_segments\u001b[0m=\u001b[32m'Изучающие иностранные языки, студенты, путешественники, эмигранты, профессионалы, желающие \u001b[0m\n",
       "\u001b[32mулучшить свои языковые навыки.  \",\\n    '\u001b[0m,\n",
       "    \u001b[33mcost_structure\u001b[0m=\u001b[32m'Разработка и поддержка платформы, маркетинг и привлечение пользователей, оплата труда \u001b[0m\n",
       "\u001b[32mмодераторов и администраторов, юридические и бухгалтерские расходы.  \",\\n    '\u001b[0m,\n",
       "    \u001b[33mrevenue_streams\u001b[0m=\u001b[32m'Подписка на платформу, комиссия с каждого урока, продажа дополнительных материалов и услуг, \u001b[0m\n",
       "\u001b[32mпремиум-функции.  \",\\n    '\u001b[0m\n",
       "\u001b[1m)\u001b[0m\n"
      ]
     },
     "metadata": {},
     "output_type": "display_data"
    }
   ],
   "source": [
    "structured_llm = llm.with_structured_output(LeanCanvasResult)\n",
    "\n",
    "prompt = \"Создайте Lean Canvas для онлайн-платформы изучения языков, которая связывает изучающих язык с носителями языка.\"\n",
    "\n",
    "print(structured_llm.invoke(prompt))"
   ]
  },
  {
   "cell_type": "markdown",
   "id": "02fe2262",
   "metadata": {},
   "source": [
    "# Заполняем по шагам"
   ]
  },
  {
   "cell_type": "markdown",
   "id": "99d29683",
   "metadata": {},
   "source": [
    "## Стейт графа\n",
    "Глобальное пространство данных в котором идет работа с графом"
   ]
  },
  {
   "cell_type": "code",
   "execution_count": 15,
   "id": "84ce7bfe",
   "metadata": {},
   "outputs": [],
   "source": [
    "from langgraph.graph import END, START, StateGraph\n",
    "from typing_extensions import TypedDict\n",
    "\n",
    "class LeanGraphState(TypedDict):\n",
    "    main_task: str # Основная задача от пользователя\n",
    "    problem: str  # Проблема, которую пытается решить продукт или услуга.\n",
    "    solution: str  # Краткое описание предлагаемого решения.\n",
    "    key_metrics: str  # Ключевые показатели, которые необходимо измерять для отслеживания прогресса.\n",
    "    unique_value_proposition: str  # Единое, ясное и убедительное сообщение, объясняющее, почему вы отличаетесь от других и почему стоит покупать именно у вас.\n",
    "    unfair_advantage: str  # То, что конкуренты не могут легко скопировать или купить.\n",
    "    channels: str  # Пути охвата ваших клиентских сегментов.\n",
    "    customer_segments: str  # Целевая аудитория или группы людей, которых вы пытаетесь охватить.\n",
    "    cost_structure: str  # Основные затраты, связанные с ведением бизнеса.\n",
    "    revenue_streams: str  # Как бизнес будет зарабатывать деньги."
   ]
  },
  {
   "cell_type": "markdown",
   "id": "2836ff77",
   "metadata": {},
   "source": [
    "# Основные шаги генерации"
   ]
  },
  {
   "cell_type": "code",
   "execution_count": 16,
   "id": "ee1de100",
   "metadata": {},
   "outputs": [],
   "source": [
    "from langchain_core.output_parsers import StrOutputParser\n",
    "from langchain.prompts import ChatPromptTemplate\n",
    "\n",
    "def ask_llm(state: LeanGraphState, question: str):\n",
    "    TEMPLATE = \"\"\"\n",
    "    Ты - эксперт в области стартапов и Lean Canvas. Твоя задача - помочь пользователю создать Lean Canvas для его задачи.\n",
    "    Исходная задача пользователя хранится в поле main_task.\n",
    "    Учитывай уже заполненные части таблицы Lean Canvas и главную задачу пользователя (main_task).\n",
    "    {state}\n",
    "    \n",
    "    Ответь на вопрос: {question}\n",
    "    Отвечай коротко, не более 1-2 предложений.\n",
    "    \"\"\"\n",
    "    \n",
    "    prompt = ChatPromptTemplate.from_messages([\n",
    "        (\"system\", TEMPLATE)\n",
    "    ])\n",
    "    \n",
    "    chain = prompt | llm | StrOutputParser()\n",
    "    return chain.invoke({\"state\": state, \"question\": question})\n",
    "\n",
    "def customer_segments(state: LeanGraphState):\n",
    "    return {\"customer_segments\": ask_llm(state, \"Кто ваши целевые клиенты?\")}\n",
    "\n",
    "def problem(state: LeanGraphState):\n",
    "    return {\"problem\": ask_llm(state, \"Какую проблему вы решаете?\")}\n",
    "\n",
    "def unique_value_proposition(state: LeanGraphState):\n",
    "    return {\"unique_value_proposition\": ask_llm(state, \"Какое уникальное предложение вы предлагаете?\")}\n",
    "\n",
    "def solution(state: LeanGraphState):\n",
    "    return {\"solution\": ask_llm(state, \"Какое решение вы предлагаете для этой проблемы?\")}\n",
    "\n",
    "def channels(state: LeanGraphState):\n",
    "    return {\"channels\": ask_llm(state, \"Какие каналы привлечения клиентов вы используете?\")}\n",
    "\n",
    "def revenue_streams(state: LeanGraphState):\n",
    "    return {\"revenue_streams\": ask_llm(state, \"Как вы планируете зарабатывать деньги?\")}\n",
    "\n",
    "def cost_structure(state: LeanGraphState):\n",
    "    return {\"cost_structure\": ask_llm(state, \"Какова структура ваших затрат?\")}\n",
    "\n",
    "def key_metrics(state: LeanGraphState):\n",
    "    return {\"key_metrics\": ask_llm(state, \"Какие ключевые показатели вы будете отслеживать?\")}\n",
    "\n",
    "def unfair_advantage(state: LeanGraphState):\n",
    "    return {\"unfair_advantage\": ask_llm(state, \"Какое ваше конкурентное преимущество?\")}"
   ]
  },
  {
   "cell_type": "markdown",
   "id": "0fd6a5bb",
   "metadata": {},
   "source": [
    "# Сборка графа"
   ]
  },
  {
   "cell_type": "code",
   "execution_count": 17,
   "id": "68a6fe3d",
   "metadata": {},
   "outputs": [],
   "source": [
    "from langgraph.checkpoint.memory import MemorySaver\n",
    "\n",
    "graph = StateGraph(LeanGraphState)\n",
    "\n",
    "graph.add_node(\"1_customer_segments\", customer_segments)\n",
    "graph.add_node(\"2_problem\", problem)\n",
    "graph.add_node(\"3_unique_value_proposition\", unique_value_proposition)\n",
    "graph.add_node(\"4_solution\", solution)\n",
    "graph.add_node(\"5_channels\", channels)\n",
    "graph.add_node(\"6_revenue_streams\", revenue_streams)\n",
    "graph.add_node(\"7_cost_structure\", cost_structure)\n",
    "graph.add_node(\"8_key_metrics\", key_metrics)\n",
    "graph.add_node(\"9_unfair_advantage\", unfair_advantage)\n",
    "\n",
    "graph.add_edge(START, \"1_customer_segments\")\n",
    "graph.add_edge(\"1_customer_segments\", \"2_problem\")\n",
    "graph.add_edge(\"2_problem\", \"3_unique_value_proposition\")\n",
    "graph.add_edge(\"3_unique_value_proposition\", \"4_solution\")\n",
    "graph.add_edge(\"4_solution\", \"5_channels\")\n",
    "graph.add_edge(\"5_channels\", \"6_revenue_streams\")\n",
    "graph.add_edge(\"6_revenue_streams\", \"7_cost_structure\")\n",
    "graph.add_edge(\"7_cost_structure\", \"8_key_metrics\")\n",
    "graph.add_edge(\"8_key_metrics\", \"9_unfair_advantage\")\n",
    "graph.add_edge(\"9_unfair_advantage\", END)\n",
    "\n",
    "memory = MemorySaver()\n",
    "app = graph.compile(checkpointer=memory)"
   ]
  },
  {
   "cell_type": "code",
   "execution_count": 18,
   "id": "e4459718",
   "metadata": {},
   "outputs": [
    {
     "data": {
      "text/html": [
       "<pre style=\"white-space:pre;overflow-x:auto;line-height:normal;font-family:Menlo,'DejaVu Sans Mono',consolas,'Courier New',monospace\"><span style=\"font-weight: bold\">{</span>\n",
       "    <span style=\"color: #008000; text-decoration-color: #008000\">'1_customer_segments'</span>: <span style=\"font-weight: bold\">{</span>\n",
       "        <span style=\"color: #008000; text-decoration-color: #008000\">'customer_segments'</span>: <span style=\"color: #008000; text-decoration-color: #008000\">'Целевые клиенты — изучающие иностранные языки и носители языков, желающие </span>\n",
       "<span style=\"color: #008000; text-decoration-color: #008000\">практиковать общение и обмениваться опытом.'</span>\n",
       "    <span style=\"font-weight: bold\">}</span>\n",
       "<span style=\"font-weight: bold\">}</span>\n",
       "</pre>\n"
      ],
      "text/plain": [
       "\u001b[1m{\u001b[0m\n",
       "    \u001b[32m'1_customer_segments'\u001b[0m: \u001b[1m{\u001b[0m\n",
       "        \u001b[32m'customer_segments'\u001b[0m: \u001b[32m'Целевые клиенты — изучающие иностранные языки и носители языков, желающие \u001b[0m\n",
       "\u001b[32mпрактиковать общение и обмениваться опытом.'\u001b[0m\n",
       "    \u001b[1m}\u001b[0m\n",
       "\u001b[1m}\u001b[0m\n"
      ]
     },
     "metadata": {},
     "output_type": "display_data"
    },
    {
     "data": {
      "text/html": [
       "<pre style=\"white-space:pre;overflow-x:auto;line-height:normal;font-family:Menlo,'DejaVu Sans Mono',consolas,'Courier New',monospace\"><span style=\"font-weight: bold\">{</span>\n",
       "    <span style=\"color: #008000; text-decoration-color: #008000\">'2_problem'</span>: <span style=\"font-weight: bold\">{</span>\n",
       "        <span style=\"color: #008000; text-decoration-color: #008000\">'problem'</span>: <span style=\"color: #008000; text-decoration-color: #008000\">'Проблема заключается в недостатке практики общения с носителями языка и сложностях поиска </span>\n",
       "<span style=\"color: #008000; text-decoration-color: #008000\">подходящих собеседников для эффективного изучения иностранных языков.'</span>\n",
       "    <span style=\"font-weight: bold\">}</span>\n",
       "<span style=\"font-weight: bold\">}</span>\n",
       "</pre>\n"
      ],
      "text/plain": [
       "\u001b[1m{\u001b[0m\n",
       "    \u001b[32m'2_problem'\u001b[0m: \u001b[1m{\u001b[0m\n",
       "        \u001b[32m'problem'\u001b[0m: \u001b[32m'Проблема заключается в недостатке практики общения с носителями языка и сложностях поиска \u001b[0m\n",
       "\u001b[32mподходящих собеседников для эффективного изучения иностранных языков.'\u001b[0m\n",
       "    \u001b[1m}\u001b[0m\n",
       "\u001b[1m}\u001b[0m\n"
      ]
     },
     "metadata": {},
     "output_type": "display_data"
    },
    {
     "data": {
      "text/html": [
       "<pre style=\"white-space:pre;overflow-x:auto;line-height:normal;font-family:Menlo,'DejaVu Sans Mono',consolas,'Courier New',monospace\"><span style=\"font-weight: bold\">{</span>\n",
       "    <span style=\"color: #008000; text-decoration-color: #008000\">'3_unique_value_proposition'</span>: <span style=\"font-weight: bold\">{</span>\n",
       "        <span style=\"color: #008000; text-decoration-color: #008000\">'unique_value_proposition'</span>: <span style=\"color: #008000; text-decoration-color: #008000\">'Уникальное предложение: онлайн-платформа, объединяющая изучающих иностранный </span>\n",
       "<span style=\"color: #008000; text-decoration-color: #008000\">язык с носителями для эффективной языковой практики через живое общение и взаимовыгодный культурный обмен.'</span>\n",
       "    <span style=\"font-weight: bold\">}</span>\n",
       "<span style=\"font-weight: bold\">}</span>\n",
       "</pre>\n"
      ],
      "text/plain": [
       "\u001b[1m{\u001b[0m\n",
       "    \u001b[32m'3_unique_value_proposition'\u001b[0m: \u001b[1m{\u001b[0m\n",
       "        \u001b[32m'unique_value_proposition'\u001b[0m: \u001b[32m'Уникальное предложение: онлайн-платформа, объединяющая изучающих иностранный \u001b[0m\n",
       "\u001b[32mязык с носителями для эффективной языковой практики через живое общение и взаимовыгодный культурный обмен.'\u001b[0m\n",
       "    \u001b[1m}\u001b[0m\n",
       "\u001b[1m}\u001b[0m\n"
      ]
     },
     "metadata": {},
     "output_type": "display_data"
    },
    {
     "data": {
      "text/html": [
       "<pre style=\"white-space:pre;overflow-x:auto;line-height:normal;font-family:Menlo,'DejaVu Sans Mono',consolas,'Courier New',monospace\"><span style=\"font-weight: bold\">{</span>\n",
       "    <span style=\"color: #008000; text-decoration-color: #008000\">'4_solution'</span>: <span style=\"font-weight: bold\">{</span>\n",
       "        <span style=\"color: #008000; text-decoration-color: #008000\">'solution'</span>: <span style=\"color: #008000; text-decoration-color: #008000\">'Решение: Онлайн-платформа, соединяющая изучающих язык с носителями для живого общения и </span>\n",
       "<span style=\"color: #008000; text-decoration-color: #008000\">культурного обмена.'</span>\n",
       "    <span style=\"font-weight: bold\">}</span>\n",
       "<span style=\"font-weight: bold\">}</span>\n",
       "</pre>\n"
      ],
      "text/plain": [
       "\u001b[1m{\u001b[0m\n",
       "    \u001b[32m'4_solution'\u001b[0m: \u001b[1m{\u001b[0m\n",
       "        \u001b[32m'solution'\u001b[0m: \u001b[32m'Решение: Онлайн-платформа, соединяющая изучающих язык с носителями для живого общения и \u001b[0m\n",
       "\u001b[32mкультурного обмена.'\u001b[0m\n",
       "    \u001b[1m}\u001b[0m\n",
       "\u001b[1m}\u001b[0m\n"
      ]
     },
     "metadata": {},
     "output_type": "display_data"
    },
    {
     "data": {
      "text/html": [
       "<pre style=\"white-space:pre;overflow-x:auto;line-height:normal;font-family:Menlo,'DejaVu Sans Mono',consolas,'Courier New',monospace\"><span style=\"font-weight: bold\">{</span>\n",
       "    <span style=\"color: #008000; text-decoration-color: #008000\">'5_channels'</span>: <span style=\"font-weight: bold\">{</span>\n",
       "        <span style=\"color: #008000; text-decoration-color: #008000\">'channels'</span>: <span style=\"color: #008000; text-decoration-color: #008000\">'Каналы привлечения клиентов: социальные сети, тематические форумы и группы, партнерские </span>\n",
       "<span style=\"color: #008000; text-decoration-color: #008000\">программы с образовательными учреждениями и языческими школами, контент-маркетинг (блоги, вебинары).'</span>\n",
       "    <span style=\"font-weight: bold\">}</span>\n",
       "<span style=\"font-weight: bold\">}</span>\n",
       "</pre>\n"
      ],
      "text/plain": [
       "\u001b[1m{\u001b[0m\n",
       "    \u001b[32m'5_channels'\u001b[0m: \u001b[1m{\u001b[0m\n",
       "        \u001b[32m'channels'\u001b[0m: \u001b[32m'Каналы привлечения клиентов: социальные сети, тематические форумы и группы, партнерские \u001b[0m\n",
       "\u001b[32mпрограммы с образовательными учреждениями и языческими школами, контент-маркетинг \u001b[0m\u001b[32m(\u001b[0m\u001b[32mблоги, вебинары\u001b[0m\u001b[32m)\u001b[0m\u001b[32m.'\u001b[0m\n",
       "    \u001b[1m}\u001b[0m\n",
       "\u001b[1m}\u001b[0m\n"
      ]
     },
     "metadata": {},
     "output_type": "display_data"
    },
    {
     "data": {
      "text/html": [
       "<pre style=\"white-space:pre;overflow-x:auto;line-height:normal;font-family:Menlo,'DejaVu Sans Mono',consolas,'Courier New',monospace\"><span style=\"font-weight: bold\">{</span>\n",
       "    <span style=\"color: #008000; text-decoration-color: #008000\">'6_revenue_streams'</span>: <span style=\"font-weight: bold\">{</span>\n",
       "        <span style=\"color: #008000; text-decoration-color: #008000\">'revenue_streams'</span>: <span style=\"color: #008000; text-decoration-color: #008000\">'Монетизация будет осуществляться через подписку премиум-аккаунтов с расширенными </span>\n",
       "<span style=\"color: #008000; text-decoration-color: #008000\">возможностями, рекламу от образовательных учреждений и партнеров, а также дополнительные платные сервисы внутри </span>\n",
       "<span style=\"color: #008000; text-decoration-color: #008000\">платформы.'</span>\n",
       "    <span style=\"font-weight: bold\">}</span>\n",
       "<span style=\"font-weight: bold\">}</span>\n",
       "</pre>\n"
      ],
      "text/plain": [
       "\u001b[1m{\u001b[0m\n",
       "    \u001b[32m'6_revenue_streams'\u001b[0m: \u001b[1m{\u001b[0m\n",
       "        \u001b[32m'revenue_streams'\u001b[0m: \u001b[32m'Монетизация будет осуществляться через подписку премиум-аккаунтов с расширенными \u001b[0m\n",
       "\u001b[32mвозможностями, рекламу от образовательных учреждений и партнеров, а также дополнительные платные сервисы внутри \u001b[0m\n",
       "\u001b[32mплатформы.'\u001b[0m\n",
       "    \u001b[1m}\u001b[0m\n",
       "\u001b[1m}\u001b[0m\n"
      ]
     },
     "metadata": {},
     "output_type": "display_data"
    },
    {
     "data": {
      "text/html": [
       "<pre style=\"white-space:pre;overflow-x:auto;line-height:normal;font-family:Menlo,'DejaVu Sans Mono',consolas,'Courier New',monospace\"><span style=\"font-weight: bold\">{</span>\n",
       "    <span style=\"color: #008000; text-decoration-color: #008000\">'7_cost_structure'</span>: <span style=\"font-weight: bold\">{</span>\n",
       "        <span style=\"color: #008000; text-decoration-color: #008000\">'cost_structure'</span>: <span style=\"color: #008000; text-decoration-color: #008000\">'Структура затрат включает разработку и поддержку платформы, маркетинговые расходы </span>\n",
       "<span style=\"color: #008000; text-decoration-color: #008000\">(контент-маркетинг, реклама), оплату труда сотрудников поддержки и модерации, серверное обеспечение и безопасность </span>\n",
       "<span style=\"color: #008000; text-decoration-color: #008000\">данных пользователей.'</span>\n",
       "    <span style=\"font-weight: bold\">}</span>\n",
       "<span style=\"font-weight: bold\">}</span>\n",
       "</pre>\n"
      ],
      "text/plain": [
       "\u001b[1m{\u001b[0m\n",
       "    \u001b[32m'7_cost_structure'\u001b[0m: \u001b[1m{\u001b[0m\n",
       "        \u001b[32m'cost_structure'\u001b[0m: \u001b[32m'Структура затрат включает разработку и поддержку платформы, маркетинговые расходы \u001b[0m\n",
       "\u001b[32m(\u001b[0m\u001b[32mконтент-маркетинг, реклама\u001b[0m\u001b[32m)\u001b[0m\u001b[32m, оплату труда сотрудников поддержки и модерации, серверное обеспечение и безопасность \u001b[0m\n",
       "\u001b[32mданных пользователей.'\u001b[0m\n",
       "    \u001b[1m}\u001b[0m\n",
       "\u001b[1m}\u001b[0m\n"
      ]
     },
     "metadata": {},
     "output_type": "display_data"
    },
    {
     "data": {
      "text/html": [
       "<pre style=\"white-space:pre;overflow-x:auto;line-height:normal;font-family:Menlo,'DejaVu Sans Mono',consolas,'Courier New',monospace\"><span style=\"font-weight: bold\">{</span>\n",
       "    <span style=\"color: #008000; text-decoration-color: #008000\">'8_key_metrics'</span>: <span style=\"font-weight: bold\">{</span>\n",
       "        <span style=\"color: #008000; text-decoration-color: #008000\">'key_metrics'</span>: <span style=\"color: #008000; text-decoration-color: #008000\">'Ключевые показатели: количество активных пользователей, среднее время сессии, коэффициент </span>\n",
       "<span style=\"color: #008000; text-decoration-color: #008000\">удержания, конверсия бесплатных пользователей в премиум-подписчиков, доходность рекламы и дополнительных сервисов.'</span>\n",
       "    <span style=\"font-weight: bold\">}</span>\n",
       "<span style=\"font-weight: bold\">}</span>\n",
       "</pre>\n"
      ],
      "text/plain": [
       "\u001b[1m{\u001b[0m\n",
       "    \u001b[32m'8_key_metrics'\u001b[0m: \u001b[1m{\u001b[0m\n",
       "        \u001b[32m'key_metrics'\u001b[0m: \u001b[32m'Ключевые показатели: количество активных пользователей, среднее время сессии, коэффициент \u001b[0m\n",
       "\u001b[32mудержания, конверсия бесплатных пользователей в премиум-подписчиков, доходность рекламы и дополнительных сервисов.'\u001b[0m\n",
       "    \u001b[1m}\u001b[0m\n",
       "\u001b[1m}\u001b[0m\n"
      ]
     },
     "metadata": {},
     "output_type": "display_data"
    },
    {
     "data": {
      "text/html": [
       "<pre style=\"white-space:pre;overflow-x:auto;line-height:normal;font-family:Menlo,'DejaVu Sans Mono',consolas,'Courier New',monospace\"><span style=\"font-weight: bold\">{</span>\n",
       "    <span style=\"color: #008000; text-decoration-color: #008000\">'9_unfair_advantage'</span>: <span style=\"font-weight: bold\">{</span>\n",
       "        <span style=\"color: #008000; text-decoration-color: #008000\">'unfair_advantage'</span>: <span style=\"color: #008000; text-decoration-color: #008000\">'Наше конкурентное преимущество — уникальная платформа, обеспечивающая эффективное </span>\n",
       "<span style=\"color: #008000; text-decoration-color: #008000\">изучение языков через прямое взаимодействие с носителями и взаимовыгодный культурный обмен.'</span>\n",
       "    <span style=\"font-weight: bold\">}</span>\n",
       "<span style=\"font-weight: bold\">}</span>\n",
       "</pre>\n"
      ],
      "text/plain": [
       "\u001b[1m{\u001b[0m\n",
       "    \u001b[32m'9_unfair_advantage'\u001b[0m: \u001b[1m{\u001b[0m\n",
       "        \u001b[32m'unfair_advantage'\u001b[0m: \u001b[32m'Наше конкурентное преимущество — уникальная платформа, обеспечивающая эффективное \u001b[0m\n",
       "\u001b[32mизучение языков через прямое взаимодействие с носителями и взаимовыгодный культурный обмен.'\u001b[0m\n",
       "    \u001b[1m}\u001b[0m\n",
       "\u001b[1m}\u001b[0m\n"
      ]
     },
     "metadata": {},
     "output_type": "display_data"
    }
   ],
   "source": [
    "import uuid\n",
    "\n",
    "inputs = {\"main_task\": \"Онлайн-платформы изучения языков, которая связывает изучающих язык с носителями языка.\"}\n",
    "config = {\"configurable\": {\"thread_id\": str(uuid.uuid4())}}\n",
    "\n",
    "async for event in app.astream(inputs, config=config):\n",
    "  print(event)"
   ]
  },
  {
   "cell_type": "code",
   "execution_count": 19,
   "id": "79dc9a84",
   "metadata": {},
   "outputs": [
    {
     "data": {
      "text/html": [
       "<pre style=\"white-space:pre;overflow-x:auto;line-height:normal;font-family:Menlo,'DejaVu Sans Mono',consolas,'Courier New',monospace\"><span style=\"font-weight: bold\">{</span>\n",
       "    <span style=\"color: #008000; text-decoration-color: #008000\">'main_task'</span>: <span style=\"color: #008000; text-decoration-color: #008000\">'Онлайн-платформы изучения языков, которая связывает изучающих язык с носителями языка.'</span>,\n",
       "    <span style=\"color: #008000; text-decoration-color: #008000\">'problem'</span>: <span style=\"color: #008000; text-decoration-color: #008000\">'Проблема заключается в недостатке практики общения с носителями языка и сложностях поиска </span>\n",
       "<span style=\"color: #008000; text-decoration-color: #008000\">подходящих собеседников для эффективного изучения иностранных языков.'</span>,\n",
       "    <span style=\"color: #008000; text-decoration-color: #008000\">'solution'</span>: <span style=\"color: #008000; text-decoration-color: #008000\">'Решение: Онлайн-платформа, соединяющая изучающих язык с носителями для живого общения и </span>\n",
       "<span style=\"color: #008000; text-decoration-color: #008000\">культурного обмена.'</span>,\n",
       "    <span style=\"color: #008000; text-decoration-color: #008000\">'key_metrics'</span>: <span style=\"color: #008000; text-decoration-color: #008000\">'Ключевые показатели: количество активных пользователей, среднее время сессии, коэффициент </span>\n",
       "<span style=\"color: #008000; text-decoration-color: #008000\">удержания, конверсия бесплатных пользователей в премиум-подписчиков, доходность рекламы и дополнительных </span>\n",
       "<span style=\"color: #008000; text-decoration-color: #008000\">сервисов.'</span>,\n",
       "    <span style=\"color: #008000; text-decoration-color: #008000\">'unique_value_proposition'</span>: <span style=\"color: #008000; text-decoration-color: #008000\">'Уникальное предложение: онлайн-платформа, объединяющая изучающих иностранный язык </span>\n",
       "<span style=\"color: #008000; text-decoration-color: #008000\">с носителями для эффективной языковой практики через живое общение и взаимовыгодный культурный обмен.'</span>,\n",
       "    <span style=\"color: #008000; text-decoration-color: #008000\">'unfair_advantage'</span>: <span style=\"color: #008000; text-decoration-color: #008000\">'Наше конкурентное преимущество — уникальная платформа, обеспечивающая эффективное изучение</span>\n",
       "<span style=\"color: #008000; text-decoration-color: #008000\">языков через прямое взаимодействие с носителями и взаимовыгодный культурный обмен.'</span>,\n",
       "    <span style=\"color: #008000; text-decoration-color: #008000\">'channels'</span>: <span style=\"color: #008000; text-decoration-color: #008000\">'Каналы привлечения клиентов: социальные сети, тематические форумы и группы, партнерские программы </span>\n",
       "<span style=\"color: #008000; text-decoration-color: #008000\">с образовательными учреждениями и языческими школами, контент-маркетинг (блоги, вебинары).'</span>,\n",
       "    <span style=\"color: #008000; text-decoration-color: #008000\">'customer_segments'</span>: <span style=\"color: #008000; text-decoration-color: #008000\">'Целевые клиенты — изучающие иностранные языки и носители языков, желающие практиковать </span>\n",
       "<span style=\"color: #008000; text-decoration-color: #008000\">общение и обмениваться опытом.'</span>,\n",
       "    <span style=\"color: #008000; text-decoration-color: #008000\">'cost_structure'</span>: <span style=\"color: #008000; text-decoration-color: #008000\">'Структура затрат включает разработку и поддержку платформы, маркетинговые расходы </span>\n",
       "<span style=\"color: #008000; text-decoration-color: #008000\">(контент-маркетинг, реклама), оплату труда сотрудников поддержки и модерации, серверное обеспечение и безопасность </span>\n",
       "<span style=\"color: #008000; text-decoration-color: #008000\">данных пользователей.'</span>,\n",
       "    <span style=\"color: #008000; text-decoration-color: #008000\">'revenue_streams'</span>: <span style=\"color: #008000; text-decoration-color: #008000\">'Монетизация будет осуществляться через подписку премиум-аккаунтов с расширенными </span>\n",
       "<span style=\"color: #008000; text-decoration-color: #008000\">возможностями, рекламу от образовательных учреждений и партнеров, а также дополнительные платные сервисы внутри </span>\n",
       "<span style=\"color: #008000; text-decoration-color: #008000\">платформы.'</span>\n",
       "<span style=\"font-weight: bold\">}</span>\n",
       "</pre>\n"
      ],
      "text/plain": [
       "\u001b[1m{\u001b[0m\n",
       "    \u001b[32m'main_task'\u001b[0m: \u001b[32m'Онлайн-платформы изучения языков, которая связывает изучающих язык с носителями языка.'\u001b[0m,\n",
       "    \u001b[32m'problem'\u001b[0m: \u001b[32m'Проблема заключается в недостатке практики общения с носителями языка и сложностях поиска \u001b[0m\n",
       "\u001b[32mподходящих собеседников для эффективного изучения иностранных языков.'\u001b[0m,\n",
       "    \u001b[32m'solution'\u001b[0m: \u001b[32m'Решение: Онлайн-платформа, соединяющая изучающих язык с носителями для живого общения и \u001b[0m\n",
       "\u001b[32mкультурного обмена.'\u001b[0m,\n",
       "    \u001b[32m'key_metrics'\u001b[0m: \u001b[32m'Ключевые показатели: количество активных пользователей, среднее время сессии, коэффициент \u001b[0m\n",
       "\u001b[32mудержания, конверсия бесплатных пользователей в премиум-подписчиков, доходность рекламы и дополнительных \u001b[0m\n",
       "\u001b[32mсервисов.'\u001b[0m,\n",
       "    \u001b[32m'unique_value_proposition'\u001b[0m: \u001b[32m'Уникальное предложение: онлайн-платформа, объединяющая изучающих иностранный язык \u001b[0m\n",
       "\u001b[32mс носителями для эффективной языковой практики через живое общение и взаимовыгодный культурный обмен.'\u001b[0m,\n",
       "    \u001b[32m'unfair_advantage'\u001b[0m: \u001b[32m'Наше конкурентное преимущество — уникальная платформа, обеспечивающая эффективное изучение\u001b[0m\n",
       "\u001b[32mязыков через прямое взаимодействие с носителями и взаимовыгодный культурный обмен.'\u001b[0m,\n",
       "    \u001b[32m'channels'\u001b[0m: \u001b[32m'Каналы привлечения клиентов: социальные сети, тематические форумы и группы, партнерские программы \u001b[0m\n",
       "\u001b[32mс образовательными учреждениями и языческими школами, контент-маркетинг \u001b[0m\u001b[32m(\u001b[0m\u001b[32mблоги, вебинары\u001b[0m\u001b[32m)\u001b[0m\u001b[32m.'\u001b[0m,\n",
       "    \u001b[32m'customer_segments'\u001b[0m: \u001b[32m'Целевые клиенты — изучающие иностранные языки и носители языков, желающие практиковать \u001b[0m\n",
       "\u001b[32mобщение и обмениваться опытом.'\u001b[0m,\n",
       "    \u001b[32m'cost_structure'\u001b[0m: \u001b[32m'Структура затрат включает разработку и поддержку платформы, маркетинговые расходы \u001b[0m\n",
       "\u001b[32m(\u001b[0m\u001b[32mконтент-маркетинг, реклама\u001b[0m\u001b[32m)\u001b[0m\u001b[32m, оплату труда сотрудников поддержки и модерации, серверное обеспечение и безопасность \u001b[0m\n",
       "\u001b[32mданных пользователей.'\u001b[0m,\n",
       "    \u001b[32m'revenue_streams'\u001b[0m: \u001b[32m'Монетизация будет осуществляться через подписку премиум-аккаунтов с расширенными \u001b[0m\n",
       "\u001b[32mвозможностями, рекламу от образовательных учреждений и партнеров, а также дополнительные платные сервисы внутри \u001b[0m\n",
       "\u001b[32mплатформы.'\u001b[0m\n",
       "\u001b[1m}\u001b[0m\n"
      ]
     },
     "metadata": {},
     "output_type": "display_data"
    }
   ],
   "source": [
    "app.get_state(config=config).values\n",
    "current_state_values = app.get_state(config=config).values\n",
    "state = LeanGraphState(**current_state_values)\n",
    "print(state)"
   ]
  },
  {
   "cell_type": "markdown",
   "id": "9669327c",
   "metadata": {},
   "source": [
    "# Вывод результата"
   ]
  },
  {
   "cell_type": "code",
   "execution_count": 22,
   "id": "e2d60a85",
   "metadata": {},
   "outputs": [],
   "source": [
    "from IPython.display import HTML, display\n",
    "\n",
    "\n",
    "def show_lean_canvas(state: LeanGraphState) -> None:\n",
    "    \"\"\"Отрисовывает Lean Canvas в Jupyter-ноутбуке как HTML-сетку.\"\"\"\n",
    "    # --- CSS для сетки 5×2 + нижний ряд -----------------------------------\n",
    "    css = \"\"\"\n",
    "    <style>\n",
    "    .canvas {\n",
    "        display: grid;\n",
    "        grid-template-columns: 2fr 1fr 2fr 1fr 2fr;   /* ширины колонок */\n",
    "        grid-template-rows: auto auto auto;           /* 2 ряда + низ   */\n",
    "        gap: 8px;\n",
    "        background: transparent;\n",
    "        font-family: Arial, sans-serif;\n",
    "    }\n",
    "    .box {\n",
    "        background:#e59a12;\n",
    "        color:#fff;\n",
    "        border:1px solid #fff;\n",
    "        padding:12px 14px;\n",
    "        line-height:1.3;\n",
    "    }\n",
    "    .title { font-weight:700; margin-bottom:6px; }\n",
    "    /* раскладка по «ячейкам» */\n",
    "    .problem           { grid-area: 1 / 1 / span 2 / span 1; }\n",
    "    .solution          { grid-area: 1 / 2 / span 1 / span 1; }\n",
    "    .key_metrics       { grid-area: 2 / 2 / span 1 / span 1; }\n",
    "    .uvp               { grid-area: 1 / 3 / span 2 / span 1; }\n",
    "    .unfair            { grid-area: 1 / 4 / span 1 / span 1; }\n",
    "    .channels          { grid-area: 2 / 4 / span 1 / span 1; }\n",
    "    .customer_segments { grid-area: 1 / 5 / span 2 / span 1; }\n",
    "    .cost_structure    { grid-area: 3 / 1 / span 1 / span 3; }\n",
    "    .revenue_streams   { grid-area: 3 / 4 / span 1 / span 2; }\n",
    "    </style>\n",
    "    \"\"\"\n",
    "\n",
    "    # --- HTML-разметка ------------------------------------------------------\n",
    "    html = f\"\"\"\n",
    "    {css}\n",
    "    <h2 style=\"text-align:center;color:#08c;font-family:Arial;margin-top:4px;\">\n",
    "        {state['main_task']}\n",
    "    </h2>\n",
    "\n",
    "    <div class=\"canvas\">\n",
    "\n",
    "        <div class=\"box problem\">\n",
    "            <div class=\"title\">2. Problem</div>\n",
    "            {state['problem']}\n",
    "        </div>\n",
    "\n",
    "        <div class=\"box solution\">\n",
    "            <div class=\"title\">4. Solution</div>\n",
    "            {state['solution']}\n",
    "        </div>\n",
    "\n",
    "        <div class=\"box key_metrics\">\n",
    "            <div class=\"title\">8. Key Metrics</div>\n",
    "            {state['key_metrics']}\n",
    "        </div>\n",
    "\n",
    "        <div class=\"box uvp\">\n",
    "            <div class=\"title\">3. Unique Value Proposition</div>\n",
    "            {state['unique_value_proposition']}\n",
    "        </div>\n",
    "\n",
    "        <div class=\"box unfair\">\n",
    "            <div class=\"title\">9. Unfair Advantage</div>\n",
    "            {state['unfair_advantage']}\n",
    "        </div>\n",
    "\n",
    "        <div class=\"box channels\">\n",
    "            <div class=\"title\">5. Channels</div>\n",
    "            {state['channels']}\n",
    "        </div>\n",
    "\n",
    "        <div class=\"box customer_segments\">\n",
    "            <div class=\"title\">1. Customer Segments</div>\n",
    "            {state['customer_segments']}\n",
    "        </div>\n",
    "\n",
    "        <div class=\"box cost_structure\">\n",
    "            <div class=\"title\">7. Cost Structure</div>\n",
    "            {state['cost_structure']}\n",
    "        </div>\n",
    "\n",
    "        <div class=\"box revenue_streams\">\n",
    "            <div class=\"title\">6. Revenue Streams</div>\n",
    "            {state['revenue_streams']}\n",
    "        </div>\n",
    "\n",
    "    </div>\n",
    "    \"\"\"\n",
    "    display(HTML(html))\n"
   ]
  },
  {
   "cell_type": "code",
   "execution_count": 23,
   "id": "e8cc0204",
   "metadata": {},
   "outputs": [
    {
     "data": {
      "text/html": [
       "\n",
       "    \n",
       "    <style>\n",
       "    .canvas {\n",
       "        display: grid;\n",
       "        grid-template-columns: 2fr 1fr 2fr 1fr 2fr;   /* ширины колонок */\n",
       "        grid-template-rows: auto auto auto;           /* 2 ряда + низ   */\n",
       "        gap: 8px;\n",
       "        background: transparent;\n",
       "        font-family: Arial, sans-serif;\n",
       "    }\n",
       "    .box {\n",
       "        background:#e59a12;\n",
       "        color:#fff;\n",
       "        border:1px solid #fff;\n",
       "        padding:12px 14px;\n",
       "        line-height:1.3;\n",
       "    }\n",
       "    .title { font-weight:700; margin-bottom:6px; }\n",
       "    /* раскладка по «ячейкам» */\n",
       "    .problem           { grid-area: 1 / 1 / span 2 / span 1; }\n",
       "    .solution          { grid-area: 1 / 2 / span 1 / span 1; }\n",
       "    .key_metrics       { grid-area: 2 / 2 / span 1 / span 1; }\n",
       "    .uvp               { grid-area: 1 / 3 / span 2 / span 1; }\n",
       "    .unfair            { grid-area: 1 / 4 / span 1 / span 1; }\n",
       "    .channels          { grid-area: 2 / 4 / span 1 / span 1; }\n",
       "    .customer_segments { grid-area: 1 / 5 / span 2 / span 1; }\n",
       "    .cost_structure    { grid-area: 3 / 1 / span 1 / span 3; }\n",
       "    .revenue_streams   { grid-area: 3 / 4 / span 1 / span 2; }\n",
       "    </style>\n",
       "    \n",
       "    <h2 style=\"text-align:center;color:#08c;font-family:Arial;margin-top:4px;\">\n",
       "        Онлайн-платформы изучения языков, которая связывает изучающих язык с носителями языка.\n",
       "    </h2>\n",
       "\n",
       "    <div class=\"canvas\">\n",
       "\n",
       "        <div class=\"box problem\">\n",
       "            <div class=\"title\">2. Problem</div>\n",
       "            Проблема заключается в недостатке практики общения с носителями языка и сложностях поиска подходящих собеседников для эффективного изучения иностранных языков.\n",
       "        </div>\n",
       "\n",
       "        <div class=\"box solution\">\n",
       "            <div class=\"title\">4. Solution</div>\n",
       "            Решение: Онлайн-платформа, соединяющая изучающих язык с носителями для живого общения и культурного обмена.\n",
       "        </div>\n",
       "\n",
       "        <div class=\"box key_metrics\">\n",
       "            <div class=\"title\">8. Key Metrics</div>\n",
       "            Ключевые показатели: количество активных пользователей, среднее время сессии, коэффициент удержания, конверсия бесплатных пользователей в премиум-подписчиков, доходность рекламы и дополнительных сервисов.\n",
       "        </div>\n",
       "\n",
       "        <div class=\"box uvp\">\n",
       "            <div class=\"title\">3. Unique Value Proposition</div>\n",
       "            Уникальное предложение: онлайн-платформа, объединяющая изучающих иностранный язык с носителями для эффективной языковой практики через живое общение и взаимовыгодный культурный обмен.\n",
       "        </div>\n",
       "\n",
       "        <div class=\"box unfair\">\n",
       "            <div class=\"title\">9. Unfair Advantage</div>\n",
       "            Наше конкурентное преимущество — уникальная платформа, обеспечивающая эффективное изучение языков через прямое взаимодействие с носителями и взаимовыгодный культурный обмен.\n",
       "        </div>\n",
       "\n",
       "        <div class=\"box channels\">\n",
       "            <div class=\"title\">5. Channels</div>\n",
       "            Каналы привлечения клиентов: социальные сети, тематические форумы и группы, партнерские программы с образовательными учреждениями и языческими школами, контент-маркетинг (блоги, вебинары).\n",
       "        </div>\n",
       "\n",
       "        <div class=\"box customer_segments\">\n",
       "            <div class=\"title\">1. Customer Segments</div>\n",
       "            Целевые клиенты — изучающие иностранные языки и носители языков, желающие практиковать общение и обмениваться опытом.\n",
       "        </div>\n",
       "\n",
       "        <div class=\"box cost_structure\">\n",
       "            <div class=\"title\">7. Cost Structure</div>\n",
       "            Структура затрат включает разработку и поддержку платформы, маркетинговые расходы (контент-маркетинг, реклама), оплату труда сотрудников поддержки и модерации, серверное обеспечение и безопасность данных пользователей.\n",
       "        </div>\n",
       "\n",
       "        <div class=\"box revenue_streams\">\n",
       "            <div class=\"title\">6. Revenue Streams</div>\n",
       "            Монетизация будет осуществляться через подписку премиум-аккаунтов с расширенными возможностями, рекламу от образовательных учреждений и партнеров, а также дополнительные платные сервисы внутри платформы.\n",
       "        </div>\n",
       "\n",
       "    </div>\n",
       "    "
      ],
      "text/plain": [
       "<IPython.core.display.HTML object>"
      ]
     },
     "metadata": {},
     "output_type": "display_data"
    }
   ],
   "source": [
    "show_lean_canvas(state)"
   ]
  }
 ],
 "metadata": {
  "kernelspec": {
   "display_name": ".venv",
   "language": "python",
   "name": "python3"
  },
  "language_info": {
   "codemirror_mode": {
    "name": "ipython",
    "version": 3
   },
   "file_extension": ".py",
   "mimetype": "text/x-python",
   "name": "python",
   "nbconvert_exporter": "python",
   "pygments_lexer": "ipython3",
   "version": "3.13.2"
  }
 },
 "nbformat": 4,
 "nbformat_minor": 5
}
